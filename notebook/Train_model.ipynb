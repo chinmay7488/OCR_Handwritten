{
 "cells": [
  {
   "cell_type": "code",
   "execution_count": 1,
   "metadata": {},
   "outputs": [],
   "source": [
    "# import the necessary packages\n",
    "from tensorflow.keras.preprocessing.image import ImageDataGenerator\n",
    "from tensorflow.keras.applications import MobileNetV2\n",
    "from tensorflow.keras.layers import AveragePooling2D\n",
    "from tensorflow.keras.layers import Dropout\n",
    "from tensorflow.keras.models import Sequential\n",
    "from tensorflow.keras.layers import Dense, Dropout, Flatten\n",
    "from tensorflow.keras.layers import Conv2D, MaxPooling2D\n",
    "from tensorflow.keras.layers import Flatten\n",
    "from tensorflow.keras.layers import Dense\n",
    "from tensorflow.keras.layers import Input\n",
    "from tensorflow.keras.models import Model\n",
    "from tensorflow.keras.optimizers import Adam\n",
    "from tensorflow.keras.applications.mobilenet_v2 import preprocess_input\n",
    "from tensorflow.keras.preprocessing.image import img_to_array\n",
    "from tensorflow.keras.preprocessing.image import load_img\n",
    "from tensorflow.keras.utils import to_categorical\n",
    "from sklearn.preprocessing import LabelBinarizer\n",
    "from sklearn.model_selection import train_test_split\n",
    "from sklearn.metrics import classification_report\n",
    "from imutils import paths\n",
    "import matplotlib.pyplot as plt\n",
    "import numpy as np\n",
    "import os\n",
    "import cv2"
   ]
  },
  {
   "cell_type": "code",
   "execution_count": 2,
   "metadata": {},
   "outputs": [],
   "source": [
    "# initialize the initial learning rate, number of epochs to train for,\n",
    "# and batch size\n",
    "INIT_LR = 1e-4\n",
    "EPOCHS = 50\n",
    "BS = 128"
   ]
  },
  {
   "cell_type": "code",
   "execution_count": 3,
   "metadata": {},
   "outputs": [],
   "source": [
    "DIRECTORY = \"OCR_Handwritten_dataset\"\n",
    "CATEGORIES = os.listdir(DIRECTORY)"
   ]
  },
  {
   "cell_type": "code",
   "execution_count": 4,
   "metadata": {},
   "outputs": [
    {
     "name": "stdout",
     "output_type": "stream",
     "text": [
      "['0', 'Q', 'n_', 'B', 'b_', '2', 'i_', '1', 'v_', 'A', '7', 'S', 'f_', 'K', 'u_', '4', 't_', 'C', 'F', 'L', 'p_', 'H', 'o_', 'r_', 'h_', 'z_', 'k_', 'E', 'I', 'm_', 'j_', 'T', 'c_', 'P', 'R', '3', '8', 'D', 'O', 'g_', 'e_', 'G', 'a_', 'X', 'w_', 'U', 'q_', 'Y', 'V', 'W', '9', 'l_', 'd_', 'x_', 's_', '6', 'M', 'Z', '5', 'y_', 'N', 'J']\n"
     ]
    }
   ],
   "source": [
    "print(CATEGORIES)"
   ]
  },
  {
   "cell_type": "code",
   "execution_count": 5,
   "metadata": {},
   "outputs": [
    {
     "name": "stdout",
     "output_type": "stream",
     "text": [
      "[INFO] loading images...\n"
     ]
    }
   ],
   "source": [
    "# grab the list of images in our dataset directory, then initialize\n",
    "# the list of data (i.e., images) and class images\n",
    "print(\"[INFO] loading images...\")\n",
    "\n",
    "data = []\n",
    "labels = []\n",
    "str='_'"
   ]
  },
  {
   "cell_type": "code",
   "execution_count": 6,
   "metadata": {},
   "outputs": [],
   "source": [
    "for category in CATEGORIES:\n",
    "    path = os.path.join(DIRECTORY, category)\n",
    "    for img in os.listdir(path):\n",
    "    \timg_path = os.path.join(path, img)\n",
    "    \timage = load_img(img_path, target_size=(98, 98))\n",
    "    \timage = img_to_array(image)\n",
    "    \timage = preprocess_input(image)\n",
    "\n",
    "    \tdata.append(image)\n",
    "    \tlabels.append(category)"
   ]
  },
  {
   "cell_type": "code",
   "execution_count": 7,
   "metadata": {},
   "outputs": [],
   "source": [
    "import pandas as pd\n",
    "df = pd.DataFrame(labels)"
   ]
  },
  {
   "cell_type": "code",
   "execution_count": 8,
   "metadata": {},
   "outputs": [],
   "source": [
    "labels = pd.get_dummies(df)"
   ]
  },
  {
   "cell_type": "code",
   "execution_count": 11,
   "metadata": {},
   "outputs": [],
   "source": [
    "labels = np.array(labels)\n",
    "data = np.array(data, dtype=\"float32\")"
   ]
  },
  {
   "cell_type": "code",
   "execution_count": 12,
   "metadata": {},
   "outputs": [],
   "source": [
    "(trainX, testX, trainY, testY) = train_test_split(data, labels,\n",
    "\ttest_size=0.20, stratify=labels, random_state=42)"
   ]
  },
  {
   "cell_type": "code",
   "execution_count": 13,
   "metadata": {},
   "outputs": [],
   "source": [
    "# construct the training image generator for data augmentation\n",
    "aug = ImageDataGenerator(\n",
    "\trotation_range=20,\n",
    "\tzoom_range=0.15,\n",
    "\twidth_shift_range=0.2,\n",
    "\theight_shift_range=0.2,\n",
    "\tshear_range=0.15,\n",
    "\thorizontal_flip=True,\n",
    "\tfill_mode=\"nearest\")"
   ]
  },
  {
   "cell_type": "code",
   "execution_count": 14,
   "metadata": {},
   "outputs": [],
   "source": [
    "model = Sequential()\n",
    "model.add(Conv2D(32, kernel_size=(3, 3),activation='relu',input_shape=(98, 98, 3)))\n",
    "model.add(Conv2D(64, (3, 3), activation='relu'))\n",
    "model.add(MaxPooling2D(pool_size=(2, 2)))\n",
    "model.add(Dropout(0.25))\n",
    "model.add(Flatten())\n",
    "model.add(Dense(256, activation='relu'))\n",
    "model.add(Dropout(0.5))\n",
    "model.add(Dense(62, activation='softmax'))"
   ]
  },
  {
   "cell_type": "code",
   "execution_count": 15,
   "metadata": {},
   "outputs": [
    {
     "name": "stdout",
     "output_type": "stream",
     "text": [
      "[INFO] compiling model...\n"
     ]
    }
   ],
   "source": [
    "# compile our model\n",
    "print(\"[INFO] compiling model...\")\n",
    "opt = Adam(lr=INIT_LR, decay=INIT_LR / EPOCHS)\n",
    "model.compile(loss=\"categorical_crossentropy\", optimizer=opt,\n",
    "\tmetrics=[\"accuracy\"])"
   ]
  },
  {
   "cell_type": "code",
   "execution_count": 16,
   "metadata": {},
   "outputs": [
    {
     "name": "stdout",
     "output_type": "stream",
     "text": [
      "[INFO] training head...\n",
      "Train for 226 steps, validate on 7241 samples\n",
      "Epoch 1/50\n",
      "226/226 [==============================] - 84s 373ms/step - loss: 3.8973 - accuracy: 0.0438 - val_loss: 3.6395 - val_accuracy: 0.0767\n",
      "Epoch 2/50\n",
      "226/226 [==============================] - 81s 359ms/step - loss: 3.6778 - accuracy: 0.0744 - val_loss: 3.4190 - val_accuracy: 0.1126\n",
      "Epoch 3/50\n",
      "226/226 [==============================] - 79s 351ms/step - loss: 3.5267 - accuracy: 0.0968 - val_loss: 3.2767 - val_accuracy: 0.1470\n",
      "Epoch 4/50\n",
      "226/226 [==============================] - 80s 356ms/step - loss: 3.4235 - accuracy: 0.1139 - val_loss: 3.1522 - val_accuracy: 0.1627\n",
      "Epoch 5/50\n",
      "226/226 [==============================] - 80s 353ms/step - loss: 3.3428 - accuracy: 0.1213 - val_loss: 3.0731 - val_accuracy: 0.1738\n",
      "Epoch 6/50\n",
      "226/226 [==============================] - 80s 354ms/step - loss: 3.2797 - accuracy: 0.1344 - val_loss: 3.0225 - val_accuracy: 0.1676\n",
      "Epoch 7/50\n",
      "226/226 [==============================] - 80s 353ms/step - loss: 3.2135 - accuracy: 0.1424 - val_loss: 2.9176 - val_accuracy: 0.2006\n",
      "Epoch 8/50\n",
      "226/226 [==============================] - 80s 353ms/step - loss: 3.1576 - accuracy: 0.1546 - val_loss: 2.8704 - val_accuracy: 0.2151\n",
      "Epoch 9/50\n",
      "226/226 [==============================] - 81s 360ms/step - loss: 3.1024 - accuracy: 0.1647 - val_loss: 2.7971 - val_accuracy: 0.2341\n",
      "Epoch 10/50\n",
      "226/226 [==============================] - 81s 357ms/step - loss: 3.0594 - accuracy: 0.1711 - val_loss: 2.7128 - val_accuracy: 0.2592\n",
      "Epoch 11/50\n",
      "226/226 [==============================] - 81s 359ms/step - loss: 3.0172 - accuracy: 0.1795 - val_loss: 2.6764 - val_accuracy: 0.2786\n",
      "Epoch 12/50\n",
      "226/226 [==============================] - 79s 351ms/step - loss: 2.9644 - accuracy: 0.1895 - val_loss: 2.6223 - val_accuracy: 0.2974\n",
      "Epoch 13/50\n",
      "226/226 [==============================] - 80s 354ms/step - loss: 2.9148 - accuracy: 0.1985 - val_loss: 2.5898 - val_accuracy: 0.2932\n",
      "Epoch 14/50\n",
      "226/226 [==============================] - 80s 352ms/step - loss: 2.8788 - accuracy: 0.2054 - val_loss: 2.5039 - val_accuracy: 0.3196\n",
      "Epoch 15/50\n",
      "226/226 [==============================] - 80s 353ms/step - loss: 2.8365 - accuracy: 0.2202 - val_loss: 2.4515 - val_accuracy: 0.3496\n",
      "Epoch 16/50\n",
      "226/226 [==============================] - 79s 352ms/step - loss: 2.7942 - accuracy: 0.2254 - val_loss: 2.4136 - val_accuracy: 0.3426\n",
      "Epoch 17/50\n",
      "226/226 [==============================] - 80s 353ms/step - loss: 2.7583 - accuracy: 0.2321 - val_loss: 2.3509 - val_accuracy: 0.3686\n",
      "Epoch 18/50\n",
      "226/226 [==============================] - 80s 355ms/step - loss: 2.7220 - accuracy: 0.2392 - val_loss: 2.2962 - val_accuracy: 0.3789\n",
      "Epoch 19/50\n",
      "226/226 [==============================] - 80s 356ms/step - loss: 2.6826 - accuracy: 0.2456 - val_loss: 2.2685 - val_accuracy: 0.3853\n",
      "Epoch 20/50\n",
      "226/226 [==============================] - 79s 351ms/step - loss: 2.6520 - accuracy: 0.2570 - val_loss: 2.2499 - val_accuracy: 0.3905\n",
      "Epoch 21/50\n",
      "226/226 [==============================] - 80s 354ms/step - loss: 2.6166 - accuracy: 0.2620 - val_loss: 2.1943 - val_accuracy: 0.4139\n",
      "Epoch 22/50\n",
      "226/226 [==============================] - 80s 353ms/step - loss: 2.5798 - accuracy: 0.2702 - val_loss: 2.1429 - val_accuracy: 0.4227\n",
      "Epoch 23/50\n",
      "226/226 [==============================] - 80s 354ms/step - loss: 2.5699 - accuracy: 0.2722 - val_loss: 2.0821 - val_accuracy: 0.4319\n",
      "Epoch 24/50\n",
      "226/226 [==============================] - 79s 350ms/step - loss: 2.5423 - accuracy: 0.2762 - val_loss: 2.0615 - val_accuracy: 0.4446\n",
      "Epoch 25/50\n",
      "226/226 [==============================] - 80s 352ms/step - loss: 2.5109 - accuracy: 0.2838 - val_loss: 2.0529 - val_accuracy: 0.4414\n",
      "Epoch 26/50\n",
      "226/226 [==============================] - 80s 355ms/step - loss: 2.4813 - accuracy: 0.2948 - val_loss: 2.0020 - val_accuracy: 0.4586\n",
      "Epoch 27/50\n",
      "226/226 [==============================] - 79s 352ms/step - loss: 2.4567 - accuracy: 0.2979 - val_loss: 2.0083 - val_accuracy: 0.4448\n",
      "Epoch 28/50\n",
      "226/226 [==============================] - 80s 356ms/step - loss: 2.4551 - accuracy: 0.2988 - val_loss: 1.9565 - val_accuracy: 0.4676\n",
      "Epoch 29/50\n",
      "226/226 [==============================] - 81s 357ms/step - loss: 2.4290 - accuracy: 0.3062 - val_loss: 1.9704 - val_accuracy: 0.4545\n",
      "Epoch 30/50\n",
      "226/226 [==============================] - 80s 353ms/step - loss: 2.3988 - accuracy: 0.3122 - val_loss: 1.9192 - val_accuracy: 0.4722\n",
      "Epoch 31/50\n",
      "226/226 [==============================] - 79s 352ms/step - loss: 2.3844 - accuracy: 0.3139 - val_loss: 1.8653 - val_accuracy: 0.4851\n",
      "Epoch 32/50\n",
      "226/226 [==============================] - 79s 351ms/step - loss: 2.3650 - accuracy: 0.3162 - val_loss: 1.8919 - val_accuracy: 0.4643\n",
      "Epoch 33/50\n",
      "226/226 [==============================] - 80s 353ms/step - loss: 2.3490 - accuracy: 0.3229 - val_loss: 1.8788 - val_accuracy: 0.4671\n",
      "Epoch 34/50\n",
      "226/226 [==============================] - 79s 351ms/step - loss: 2.3272 - accuracy: 0.3257 - val_loss: 1.7801 - val_accuracy: 0.5070\n",
      "Epoch 35/50\n",
      "226/226 [==============================] - 80s 354ms/step - loss: 2.3109 - accuracy: 0.3314 - val_loss: 1.8042 - val_accuracy: 0.4926\n",
      "Epoch 36/50\n",
      "226/226 [==============================] - 80s 353ms/step - loss: 2.2977 - accuracy: 0.3346 - val_loss: 1.7638 - val_accuracy: 0.5158\n",
      "Epoch 37/50\n",
      "226/226 [==============================] - 80s 355ms/step - loss: 2.2834 - accuracy: 0.3374 - val_loss: 1.7515 - val_accuracy: 0.5170\n",
      "Epoch 38/50\n",
      "226/226 [==============================] - 83s 369ms/step - loss: 2.2710 - accuracy: 0.3432 - val_loss: 1.7761 - val_accuracy: 0.4990\n",
      "Epoch 39/50\n",
      "226/226 [==============================] - 81s 361ms/step - loss: 2.2608 - accuracy: 0.3392 - val_loss: 1.6885 - val_accuracy: 0.5363\n",
      "Epoch 40/50\n",
      "226/226 [==============================] - 81s 356ms/step - loss: 2.2357 - accuracy: 0.3483 - val_loss: 1.7080 - val_accuracy: 0.5195\n",
      "Epoch 41/50\n",
      "226/226 [==============================] - 80s 356ms/step - loss: 2.2250 - accuracy: 0.3491 - val_loss: 1.6875 - val_accuracy: 0.5183\n",
      "Epoch 42/50\n",
      "226/226 [==============================] - 81s 356ms/step - loss: 2.2023 - accuracy: 0.3511 - val_loss: 1.7085 - val_accuracy: 0.5099\n",
      "Epoch 43/50\n",
      "226/226 [==============================] - 80s 354ms/step - loss: 2.1990 - accuracy: 0.3547 - val_loss: 1.6622 - val_accuracy: 0.5215\n",
      "Epoch 44/50\n",
      "226/226 [==============================] - 80s 354ms/step - loss: 2.1886 - accuracy: 0.3596 - val_loss: 1.6367 - val_accuracy: 0.5300\n",
      "Epoch 45/50\n",
      "226/226 [==============================] - 80s 355ms/step - loss: 2.1724 - accuracy: 0.3622 - val_loss: 1.6471 - val_accuracy: 0.5187\n",
      "Epoch 46/50\n",
      "226/226 [==============================] - 80s 352ms/step - loss: 2.1663 - accuracy: 0.3613 - val_loss: 1.6776 - val_accuracy: 0.5067\n",
      "Epoch 47/50\n",
      "226/226 [==============================] - 80s 356ms/step - loss: 2.1677 - accuracy: 0.3634 - val_loss: 1.5616 - val_accuracy: 0.5608\n",
      "Epoch 48/50\n",
      "226/226 [==============================] - 79s 351ms/step - loss: 2.1518 - accuracy: 0.3681 - val_loss: 1.5944 - val_accuracy: 0.5356\n",
      "Epoch 49/50\n",
      "226/226 [==============================] - 79s 351ms/step - loss: 2.1402 - accuracy: 0.3697 - val_loss: 1.5861 - val_accuracy: 0.5389\n",
      "Epoch 50/50\n",
      "226/226 [==============================] - 80s 355ms/step - loss: 2.1250 - accuracy: 0.3719 - val_loss: 1.5916 - val_accuracy: 0.5340\n"
     ]
    }
   ],
   "source": [
    "# train the head of the network\n",
    "print(\"[INFO] training head...\")\n",
    "H = model.fit(\n",
    "\taug.flow(trainX, trainY, batch_size=BS),\n",
    "\tsteps_per_epoch=len(trainX) // BS,\n",
    "\tvalidation_data=(testX, testY),\n",
    "\tvalidation_steps=len(testX) // BS,\n",
    "\tepochs=EPOCHS)"
   ]
  },
  {
   "cell_type": "code",
   "execution_count": 17,
   "metadata": {},
   "outputs": [
    {
     "name": "stdout",
     "output_type": "stream",
     "text": [
      "[INFO] saving mask detector model...\n"
     ]
    }
   ],
   "source": [
    "# serialize the model to disk\n",
    "print(\"[INFO] saving mask detector model...\")\n",
    "model.save(\"OCR_handwritten ver 2.0.model\", save_format=\"h5\")"
   ]
  }
 ],
 "metadata": {
  "kernelspec": {
   "display_name": "Python 3",
   "language": "python",
   "name": "python3"
  },
  "language_info": {
   "codemirror_mode": {
    "name": "ipython",
    "version": 3
   },
   "file_extension": ".py",
   "mimetype": "text/x-python",
   "name": "python",
   "nbconvert_exporter": "python",
   "pygments_lexer": "ipython3",
   "version": "3.6.8"
  }
 },
 "nbformat": 4,
 "nbformat_minor": 4
}
