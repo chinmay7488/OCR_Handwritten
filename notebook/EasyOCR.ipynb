{
 "cells": [
  {
   "cell_type": "markdown",
   "metadata": {},
   "source": [
    "## Install and Import Dependencies"
   ]
  },
  {
   "cell_type": "code",
   "execution_count": 1,
   "metadata": {},
   "outputs": [],
   "source": [
    "# Install pytorch\n",
    "#https://pytorch.org/get-started/locally/"
   ]
  },
  {
   "cell_type": "code",
   "execution_count": 2,
   "metadata": {},
   "outputs": [
    {
     "name": "stdout",
     "output_type": "stream",
     "text": [
      "Requirement already satisfied: easyocr in /usr/local/lib/python3.6/dist-packages (1.2.2)\n",
      "Requirement already satisfied: torchvision>=0.5 in /usr/local/lib/python3.6/dist-packages (from easyocr) (0.8.2+cu101)\n",
      "Requirement already satisfied: opencv-python in /usr/local/lib/python3.6/dist-packages (from easyocr) (4.4.0.44)\n",
      "Requirement already satisfied: Pillow in /usr/local/lib/python3.6/dist-packages (from easyocr) (6.1.0)\n",
      "Requirement already satisfied: scikit-image in /usr/local/lib/python3.6/dist-packages (from easyocr) (0.17.2)\n",
      "Requirement already satisfied: numpy in /usr/local/lib/python3.6/dist-packages (from easyocr) (1.17.0)\n",
      "Requirement already satisfied: python-bidi in /usr/local/lib/python3.6/dist-packages (from easyocr) (0.4.2)\n",
      "Requirement already satisfied: PyYAML in /usr/local/lib/python3.6/dist-packages (from easyocr) (5.1.2)\n",
      "Requirement already satisfied: scipy in /usr/local/lib/python3.6/dist-packages (from easyocr) (1.3.0)\n",
      "Requirement already satisfied: torch in /usr/local/lib/python3.6/dist-packages (from easyocr) (1.7.1+cu101)\n",
      "Requirement already satisfied: typing-extensions in /usr/local/lib/python3.6/dist-packages (from torch->easyocr) (3.7.4.3)\n",
      "Requirement already satisfied: dataclasses in /usr/local/lib/python3.6/dist-packages (from torch->easyocr) (0.8)\n",
      "Requirement already satisfied: six in /usr/local/lib/python3.6/dist-packages (from python-bidi->easyocr) (1.12.0)\n",
      "Requirement already satisfied: imageio>=2.3.0 in /usr/local/lib/python3.6/dist-packages (from scikit-image->easyocr) (2.9.0)\n",
      "Requirement already satisfied: tifffile>=2019.7.26 in /usr/local/lib/python3.6/dist-packages (from scikit-image->easyocr) (2020.9.3)\n",
      "Requirement already satisfied: matplotlib!=3.0.0,>=2.0.0 in /usr/local/lib/python3.6/dist-packages (from scikit-image->easyocr) (3.1.1)\n",
      "Requirement already satisfied: networkx>=2.0 in /usr/local/lib/python3.6/dist-packages (from scikit-image->easyocr) (2.5)\n",
      "Requirement already satisfied: PyWavelets>=1.1.1 in /usr/local/lib/python3.6/dist-packages (from scikit-image->easyocr) (1.1.1)\n",
      "Requirement already satisfied: python-dateutil>=2.1 in /usr/local/lib/python3.6/dist-packages (from matplotlib!=3.0.0,>=2.0.0->scikit-image->easyocr) (2.8.0)\n",
      "Requirement already satisfied: cycler>=0.10 in /usr/local/lib/python3.6/dist-packages (from matplotlib!=3.0.0,>=2.0.0->scikit-image->easyocr) (0.10.0)\n",
      "Requirement already satisfied: pyparsing!=2.0.4,!=2.1.2,!=2.1.6,>=2.0.1 in /usr/local/lib/python3.6/dist-packages (from matplotlib!=3.0.0,>=2.0.0->scikit-image->easyocr) (2.4.2)\n",
      "Requirement already satisfied: kiwisolver>=1.0.1 in /usr/local/lib/python3.6/dist-packages (from matplotlib!=3.0.0,>=2.0.0->scikit-image->easyocr) (1.1.0)\n",
      "Requirement already satisfied: setuptools in /usr/local/lib/python3.6/dist-packages (from kiwisolver>=1.0.1->matplotlib!=3.0.0,>=2.0.0->scikit-image->easyocr) (41.0.1)\n",
      "Requirement already satisfied: decorator>=4.3.0 in /usr/local/lib/python3.6/dist-packages (from networkx>=2.0->scikit-image->easyocr) (4.4.0)\n"
     ]
    }
   ],
   "source": [
    "# Install easyocr \n",
    "!pip install easyocr"
   ]
  },
  {
   "cell_type": "code",
   "execution_count": 3,
   "metadata": {},
   "outputs": [],
   "source": [
    "import easyocr\n",
    "import cv2\n",
    "from matplotlib import pyplot as plt\n",
    "import numpy as np"
   ]
  },
  {
   "cell_type": "markdown",
   "metadata": {},
   "source": [
    "## Read in images or video"
   ]
  },
  {
   "cell_type": "code",
   "execution_count": 21,
   "metadata": {},
   "outputs": [],
   "source": [
    "IMAGE_PATH = 'Ocr task_Page_1(A).jpg'"
   ]
  },
  {
   "cell_type": "code",
   "execution_count": 22,
   "metadata": {},
   "outputs": [
    {
     "data": {
      "text/plain": [
       "[([[131, 0], [1825, 0], [1825, 44], [131, 44]],\n",
       "  'The quenes stated below are minimum requirement to be furnished bya Proposer. The insurer may seek more information as desired for underwnting purpose.',\n",
       "  9.47762600844726e-06),\n",
       " ([[191, 45], [281, 45], [281, 81], [191, 81]], 'Pt Car', 0.15034915506839752),\n",
       " ([[383, 46], [533, 46], [533, 84], [383, 84]],\n",
       "  'Two Wheeler',\n",
       "  0.2509809732437134),\n",
       " ([[656, 46], [797, 46], [797, 88], [656, 88]],\n",
       "  'Proposal for',\n",
       "  0.9432981610298157),\n",
       " ([[1941, 46], [2345, 46], [2345, 91], [1941, 91]],\n",
       "  'To be filled in BLOCKLETTERS ONLY',\n",
       "  0.012904008850455284),\n",
       " ([[1667, 47], [1815, 47], [1815, 83], [1667, 83]],\n",
       "  'Endorsement',\n",
       "  0.9688843488693237),\n",
       " ([[901, 49], [959, 49], [959, 85], [901, 85]], 'New', 0.9893395900726318),\n",
       " ([[1063, 49], [1165, 49], [1165, 85], [1063, 85]],\n",
       "  'Renewal',\n",
       "  0.8951693177223206),\n",
       " ([[1493, 49], [1555, 49], [1555, 85], [1493, 85]],\n",
       "  'Used',\n",
       "  0.9598734974861145),\n",
       " ([[1268, 52], [1372, 52], [1372, 84], [1268, 84]],\n",
       "  'Roll Over',\n",
       "  0.5241663455963135),\n",
       " ([[187, 99], [419, 99], [419, 141], [187, 141]],\n",
       "  'FOR OFFICE USE',\n",
       "  0.17856450378894806),\n",
       " ([[1789, 143], [1913, 143], [1913, 181], [1789, 181]],\n",
       "  'Agreement',\n",
       "  0.9198481440544128),\n",
       " ([[394, 152], [1247, 152], [1247, 212], [394, 212]],\n",
       "  'do1_3i5SiDBJ3',\n",
       "  3.6144363093626453e-06),\n",
       " ([[1527, 156], [1694, 156], [1694, 204], [1527, 204]],\n",
       "  '2 2 3 4',\n",
       "  0.1352304071187973),\n",
       " ([[127, 162], [279, 162], [279, 204], [127, 204]],\n",
       "  'Proposal No.',\n",
       "  0.6363803744316101),\n",
       " ([[1274, 166], [1380, 166], [1380, 198], [1274, 198]],\n",
       "  'RM Code',\n",
       "  0.46886810660362244),\n",
       " ([[1787, 173], [1853, 173], [1853, 209], [1787, 209]],\n",
       "  'Code',\n",
       "  0.9886699914932251),\n",
       " ([[1978, 194], [2330, 194], [2330, 250], [1978, 250]],\n",
       "  'NAr1AS TEs',\n",
       "  0.022410834208130836),\n",
       " ([[1272, 203], [1395, 203], [1395, 243], [1272, 243]],\n",
       "  'Secondary',\n",
       "  0.9391406178474426),\n",
       " ([[1789, 203], [1913, 203], [1913, 241], [1789, 241]],\n",
       "  'Agreement',\n",
       "  0.9817928671836853),\n",
       " ([[350, 207], [1200, 207], [1200, 261], [350, 261]],\n",
       "  '9 37654331~5331636',\n",
       "  7.320275017264066e-07),\n",
       " ([[1439, 215], [1651, 215], [1651, 259], [1439, 259]],\n",
       "  '5618 9',\n",
       "  0.013989308848977089),\n",
       " ([[130, 218], [242, 218], [242, 250], [130, 250]],\n",
       "  'Quote No.',\n",
       "  0.49508026242256165),\n",
       " ([[1789, 233], [1859, 233], [1859, 269], [1789, 269]],\n",
       "  'Name',\n",
       "  0.9373819828033447),\n",
       " ([[1274, 238], [1380, 238], [1380, 270], [1274, 270]],\n",
       "  'RM Code',\n",
       "  0.6133867502212524),\n",
       " ([[2255, 259], [2289, 259], [2289, 297], [2255, 297]],\n",
       "  '22',\n",
       "  0.1369217187166214),\n",
       " ([[394, 261], [937, 261], [937, 321], [394, 321]],\n",
       "  '0[3|3|73|57153130',\n",
       "  3.650574944913387e-05),\n",
       " ([[2206, 268], [2238, 268], [2238, 296], [2206, 296]],\n",
       "  '&',\n",
       "  0.32769840955734253),\n",
       " ([[1787, 269], [1931, 269], [1931, 309], [1787, 309]],\n",
       "  'Receipt Date',\n",
       "  0.6632640361785889),\n",
       " ([[1440, 270], [1614, 270], [1614, 318], [1440, 318]],\n",
       "  '&7 ? 3',\n",
       "  0.09140633791685104),\n",
       " ([[128, 274], [253, 274], [253, 310], [128, 310]],\n",
       "  'Inward No.',\n",
       "  0.43308451771736145),\n",
       " ([[1273, 277], [1399, 277], [1399, 315], [1273, 315]],\n",
       "  'Receipt No.',\n",
       "  0.8727819919586182),\n",
       " ([[1079, 281], [1201, 281], [1201, 317], [1079, 317]],\n",
       "  'GG1',\n",
       "  0.20814822614192963),\n",
       " ([[130, 314], [223, 314], [223, 353], [130, 353]],\n",
       "  'Break in',\n",
       "  0.3441358208656311),\n",
       " ([[2255, 317], [2291, 317], [2291, 353], [2255, 353]],\n",
       "  '2',\n",
       "  0.5783289074897766),\n",
       " ([[2163, 319], [2237, 319], [2237, 357], [2163, 357]],\n",
       "  'G6',\n",
       "  0.05897713452577591),\n",
       " ([[2119, 321], [2153, 321], [2153, 363], [2119, 363]],\n",
       "  '5',\n",
       "  0.8348289728164673),\n",
       " ([[2071, 323], [2107, 323], [2107, 361], [2071, 361]],\n",
       "  '',\n",
       "  0.5492432117462158),\n",
       " ([[394, 324], [620, 324], [620, 374], [394, 374]],\n",
       "  '3313 30',\n",
       "  0.0036755625624209642),\n",
       " ([[1981, 325], [2059, 325], [2059, 363], [1981, 363]],\n",
       "  '2 9',\n",
       "  0.19519397616386414),\n",
       " ([[1043, 328], [1208, 328], [1208, 377], [1043, 377]],\n",
       "  '&7|8 2',\n",
       "  0.08578258752822876),\n",
       " ([[1462, 329], [1555, 329], [1555, 379], [1462, 379]],\n",
       "  'MP',\n",
       "  0.3195495009422302),\n",
       " ([[1718, 330], [1816, 330], [1816, 362], [1718, 362]],\n",
       "  'SP Code',\n",
       "  0.3990973234176636),\n",
       " ([[725, 337], [931, 337], [931, 377], [725, 377]],\n",
       "  '6 5 32',\n",
       "  0.034847065806388855),\n",
       " ([[240, 344], [276, 344], [276, 376], [240, 376]], 'No', 0.8657152056694031),\n",
       " ([[129, 345], [241, 345], [241, 381], [129, 381]],\n",
       "  'Inspection',\n",
       "  0.8721300959587097),\n",
       " ([[1271, 347], [1348, 347], [1348, 390], [1271, 390]],\n",
       "  'State',\n",
       "  0.9929515719413757),\n",
       " ([[2267, 375], [2343, 375], [2343, 411], [2267, 411]],\n",
       "  'Direct',\n",
       "  0.9815012812614441),\n",
       " ([[1968, 383], [2173, 383], [2173, 423], [1968, 423]],\n",
       "  'Corporate  Broking',\n",
       "  0.31907761096954346),\n",
       " ([[131, 391], [317, 391], [317, 429], [131, 429]],\n",
       "  'Business Sector',\n",
       "  0.6626255512237549),\n",
       " ([[1816, 392], [1890, 392], [1890, 424], [1816, 424]],\n",
       "  'Banca',\n",
       "  0.9955947995185852),\n",
       " ([[399, 393], [473, 393], [473, 429], [399, 429]],\n",
       "  'Urban',\n",
       "  0.8479876518249512),\n",
       " ([[1645, 393], [1733, 393], [1733, 431], [1645, 431]],\n",
       "  'Agency',\n",
       "  0.8248066902160645),\n",
       " ([[545, 395], [611, 395], [611, 431], [545, 431]],\n",
       "  'Rural',\n",
       "  0.9834339618682861),\n",
       " ([[679, 397], [753, 397], [753, 433], [679, 433]],\n",
       "  'Social',\n",
       "  0.8244269490242004),\n",
       " ([[1341, 397], [1552, 397], [1552, 435], [1341, 435]],\n",
       "  'Customer Segment',\n",
       "  0.5653055906295776),\n",
       " ([[803, 399], [941, 399], [941, 435], [803, 435]],\n",
       "  'GSTIISDN',\n",
       "  0.33283719420433044),\n",
       " ([[1059, 401], [1225, 401], [1225, 437], [1059, 437]],\n",
       "  'F APPLICABLE',\n",
       "  0.3056727647781372)]"
      ]
     },
     "execution_count": 22,
     "metadata": {},
     "output_type": "execute_result"
    }
   ],
   "source": [
    "reader = easyocr.Reader(['en'])\n",
    "result = reader.readtext(IMAGE_PATH)\n",
    "result"
   ]
  },
  {
   "cell_type": "markdown",
   "metadata": {},
   "source": [
    "## Draw Results "
   ]
  },
  {
   "cell_type": "code",
   "execution_count": 25,
   "metadata": {},
   "outputs": [
    {
     "data": {
      "image/png": "[encoded data removed]",
      "text/plain": [
       "<Figure size 432x288 with 1 Axes>"
      ]
     },
     "metadata": {
      "needs_background": "light"
     },
     "output_type": "display_data"
    }
   ],
   "source": [
    "img = cv2.imread(IMAGE_PATH)\n",
    "spacer = 100\n",
    "for detection in result: \n",
    "    top_left = tuple(detection[0][0])\n",
    "    bottom_right = tuple(detection[0][2])\n",
    "    text = detection[1]\n",
    "    img = cv2.rectangle(img,top_left,bottom_right,(0,255,0),3)\n",
    "    img = cv2.putText(img,text,(20,spacer), font, 0.5,(0,255,0),2,cv2.LINE_AA)\n",
    "    spacer+=15\n",
    "\n",
    "plt.savefig('EasyOCR.png')\n",
    "plt.imshow(img)\n",
    "plt.show()"
   ]
  },
  {
   "cell_type": "code",
   "execution_count": null,
   "metadata": {},
   "outputs": [],
   "source": []
  }
 ],
 "metadata": {
  "kernelspec": {
   "display_name": "Python 3",
   "language": "python",
   "name": "python3"
  },
  "language_info": {
   "codemirror_mode": {
    "name": "ipython",
    "version": 3
   },
   "file_extension": ".py",
   "mimetype": "text/x-python",
   "name": "python",
   "nbconvert_exporter": "python",
   "pygments_lexer": "ipython3",
   "version": "3.6.8"
  }
 },
 "nbformat": 4,
 "nbformat_minor": 4
}
